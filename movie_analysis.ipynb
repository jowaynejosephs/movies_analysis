{
 "cells": [
  {
   "cell_type": "code",
   "execution_count": 53,
   "id": "d3abf5d0-d32f-41b8-8d5c-85d6a2698ca2",
   "metadata": {},
   "outputs": [],
   "source": [
    "from datetime import datetime\n",
    "import pandas as pd\n",
    "import matplotlib.pyplot as plt\n",
    "import seaborn as sns\n",
    "import numpy as np\n",
    "\n",
    "\n",
    "df= pd.read_csv('/Users/jowaynejosephs/Desktop/movies_analysis/movies_clean.csv')\n",
    "pd.set_option('display.max_rows', None)\n"
   ]
  },
  {
   "cell_type": "code",
   "execution_count": 55,
   "id": "7f091f50-bc0d-4489-ad12-b1a04422f45f",
   "metadata": {},
   "outputs": [
    {
     "data": {
      "text/plain": [
       "array([175000000, 175000000, 175000000, ...,    212285,    203134,\n",
       "          191862])"
      ]
     },
     "execution_count": 55,
     "metadata": {},
     "output_type": "execute_result"
    }
   ],
   "source": []
  },
  {
   "cell_type": "markdown",
   "id": "e056590c-1758-425f-8f1a-17bbcd5ca25a",
   "metadata": {},
   "source": [
    "### Exploratory Data Analysis"
   ]
  },
  {
   "cell_type": "code",
   "execution_count": 8,
   "id": "fb30b7d6-14bc-4f36-83d3-5853e301fee2",
   "metadata": {},
   "outputs": [
    {
     "data": {
      "text/html": [
       "<div>\n",
       "<style scoped>\n",
       "    .dataframe tbody tr th:only-of-type {\n",
       "        vertical-align: middle;\n",
       "    }\n",
       "\n",
       "    .dataframe tbody tr th {\n",
       "        vertical-align: top;\n",
       "    }\n",
       "\n",
       "    .dataframe thead th {\n",
       "        text-align: right;\n",
       "    }\n",
       "</style>\n",
       "<table border=\"1\" class=\"dataframe\">\n",
       "  <thead>\n",
       "    <tr style=\"text-align: right;\">\n",
       "      <th></th>\n",
       "      <th>Unnamed: 0</th>\n",
       "      <th>release_date</th>\n",
       "      <th>movie</th>\n",
       "      <th>production_budget</th>\n",
       "      <th>domestic_gross</th>\n",
       "      <th>worldwide_gross</th>\n",
       "      <th>profit</th>\n",
       "      <th>Profit/Loss</th>\n",
       "      <th>distributor</th>\n",
       "      <th>mpaa_rating</th>\n",
       "      <th>genre</th>\n",
       "    </tr>\n",
       "  </thead>\n",
       "  <tbody>\n",
       "    <tr>\n",
       "      <th>0</th>\n",
       "      <td>1</td>\n",
       "      <td>6/22/2007</td>\n",
       "      <td>Evan Almighty</td>\n",
       "      <td>175000000</td>\n",
       "      <td>100289690</td>\n",
       "      <td>174131329</td>\n",
       "      <td>-868671</td>\n",
       "      <td>loss</td>\n",
       "      <td>Universal</td>\n",
       "      <td>PG</td>\n",
       "      <td>Comedy</td>\n",
       "    </tr>\n",
       "    <tr>\n",
       "      <th>1</th>\n",
       "      <td>2</td>\n",
       "      <td>7/28/1995</td>\n",
       "      <td>Waterworld</td>\n",
       "      <td>175000000</td>\n",
       "      <td>88246220</td>\n",
       "      <td>264246220</td>\n",
       "      <td>89246220</td>\n",
       "      <td>profit</td>\n",
       "      <td>Universal</td>\n",
       "      <td>PG-13</td>\n",
       "      <td>Action</td>\n",
       "    </tr>\n",
       "    <tr>\n",
       "      <th>2</th>\n",
       "      <td>3</td>\n",
       "      <td>5/12/2017</td>\n",
       "      <td>King Arthur: Legend of the Sword</td>\n",
       "      <td>175000000</td>\n",
       "      <td>39175066</td>\n",
       "      <td>139950708</td>\n",
       "      <td>-35049292</td>\n",
       "      <td>loss</td>\n",
       "      <td>Warner Bros.</td>\n",
       "      <td>PG-13</td>\n",
       "      <td>Adventure</td>\n",
       "    </tr>\n",
       "    <tr>\n",
       "      <th>3</th>\n",
       "      <td>4</td>\n",
       "      <td>12/25/2013</td>\n",
       "      <td>47 Ronin</td>\n",
       "      <td>175000000</td>\n",
       "      <td>38362475</td>\n",
       "      <td>151716815</td>\n",
       "      <td>-23283185</td>\n",
       "      <td>loss</td>\n",
       "      <td>Universal</td>\n",
       "      <td>PG-13</td>\n",
       "      <td>Action</td>\n",
       "    </tr>\n",
       "    <tr>\n",
       "      <th>4</th>\n",
       "      <td>5</td>\n",
       "      <td>6/22/2018</td>\n",
       "      <td>Jurassic World: Fallen Kingdom</td>\n",
       "      <td>170000000</td>\n",
       "      <td>416769345</td>\n",
       "      <td>1304866322</td>\n",
       "      <td>1134866322</td>\n",
       "      <td>profit</td>\n",
       "      <td>Universal</td>\n",
       "      <td>PG-13</td>\n",
       "      <td>Action</td>\n",
       "    </tr>\n",
       "  </tbody>\n",
       "</table>\n",
       "</div>"
      ],
      "text/plain": [
       "   Unnamed: 0 release_date                             movie  \\\n",
       "0           1    6/22/2007                     Evan Almighty   \n",
       "1           2    7/28/1995                        Waterworld   \n",
       "2           3    5/12/2017  King Arthur: Legend of the Sword   \n",
       "3           4   12/25/2013                          47 Ronin   \n",
       "4           5    6/22/2018    Jurassic World: Fallen Kingdom   \n",
       "\n",
       "   production_budget  domestic_gross  worldwide_gross      profit Profit/Loss  \\\n",
       "0          175000000       100289690        174131329     -868671        loss   \n",
       "1          175000000        88246220        264246220    89246220      profit   \n",
       "2          175000000        39175066        139950708   -35049292        loss   \n",
       "3          175000000        38362475        151716815   -23283185        loss   \n",
       "4          170000000       416769345       1304866322  1134866322      profit   \n",
       "\n",
       "    distributor mpaa_rating      genre  \n",
       "0     Universal          PG     Comedy  \n",
       "1     Universal       PG-13     Action  \n",
       "2  Warner Bros.       PG-13  Adventure  \n",
       "3     Universal       PG-13     Action  \n",
       "4     Universal       PG-13     Action  "
      ]
     },
     "execution_count": 8,
     "metadata": {},
     "output_type": "execute_result"
    }
   ],
   "source": [
    "df.head()"
   ]
  },
  {
   "cell_type": "code",
   "execution_count": 9,
   "id": "218baa8c-6f11-4594-8a08-c0bc23ab4f18",
   "metadata": {},
   "outputs": [
    {
     "data": {
      "text/plain": [
       "191862"
      ]
     },
     "execution_count": 9,
     "metadata": {},
     "output_type": "execute_result"
    }
   ],
   "source": [
    "df.loc[3364,'domestic_gross']"
   ]
  },
  {
   "cell_type": "code",
   "execution_count": 10,
   "id": "89649eb7-5c7e-4eff-93fc-92017d273323",
   "metadata": {},
   "outputs": [
    {
     "data": {
      "text/html": [
       "<div>\n",
       "<style scoped>\n",
       "    .dataframe tbody tr th:only-of-type {\n",
       "        vertical-align: middle;\n",
       "    }\n",
       "\n",
       "    .dataframe tbody tr th {\n",
       "        vertical-align: top;\n",
       "    }\n",
       "\n",
       "    .dataframe thead th {\n",
       "        text-align: right;\n",
       "    }\n",
       "</style>\n",
       "<table border=\"1\" class=\"dataframe\">\n",
       "  <thead>\n",
       "    <tr style=\"text-align: right;\">\n",
       "      <th></th>\n",
       "      <th>Unnamed: 0</th>\n",
       "      <th>release_date</th>\n",
       "      <th>movie</th>\n",
       "      <th>production_budget</th>\n",
       "      <th>domestic_gross</th>\n",
       "      <th>worldwide_gross</th>\n",
       "      <th>profit</th>\n",
       "      <th>Profit/Loss</th>\n",
       "      <th>distributor</th>\n",
       "      <th>mpaa_rating</th>\n",
       "      <th>genre</th>\n",
       "    </tr>\n",
       "  </thead>\n",
       "  <tbody>\n",
       "    <tr>\n",
       "      <th>3360</th>\n",
       "      <td>3397</td>\n",
       "      <td>10/28/2011</td>\n",
       "      <td>Like Crazy</td>\n",
       "      <td>250000</td>\n",
       "      <td>3395391</td>\n",
       "      <td>3728400</td>\n",
       "      <td>3478400</td>\n",
       "      <td>profit</td>\n",
       "      <td>Paramount Pictures</td>\n",
       "      <td>PG-13</td>\n",
       "      <td>Drama</td>\n",
       "    </tr>\n",
       "    <tr>\n",
       "      <th>3361</th>\n",
       "      <td>3398</td>\n",
       "      <td>7/14/2000</td>\n",
       "      <td>Chuck&amp;Buck</td>\n",
       "      <td>250000</td>\n",
       "      <td>1055671</td>\n",
       "      <td>1157672</td>\n",
       "      <td>907672</td>\n",
       "      <td>profit</td>\n",
       "      <td>Artisan</td>\n",
       "      <td>R</td>\n",
       "      <td>Drama</td>\n",
       "    </tr>\n",
       "    <tr>\n",
       "      <th>3362</th>\n",
       "      <td>3399</td>\n",
       "      <td>3/28/1997</td>\n",
       "      <td>Love and Other Catastrophes</td>\n",
       "      <td>250000</td>\n",
       "      <td>212285</td>\n",
       "      <td>743216</td>\n",
       "      <td>493216</td>\n",
       "      <td>profit</td>\n",
       "      <td>Fox Searchlight</td>\n",
       "      <td>R</td>\n",
       "      <td>Comedy</td>\n",
       "    </tr>\n",
       "    <tr>\n",
       "      <th>3363</th>\n",
       "      <td>3400</td>\n",
       "      <td>8/28/1998</td>\n",
       "      <td>I Married a Strange Person</td>\n",
       "      <td>250000</td>\n",
       "      <td>203134</td>\n",
       "      <td>203134</td>\n",
       "      <td>-46866</td>\n",
       "      <td>loss</td>\n",
       "      <td>Lionsgate</td>\n",
       "      <td>NaN</td>\n",
       "      <td>Comedy</td>\n",
       "    </tr>\n",
       "    <tr>\n",
       "      <th>3364</th>\n",
       "      <td>3401</td>\n",
       "      <td>7/22/2005</td>\n",
       "      <td>November</td>\n",
       "      <td>250000</td>\n",
       "      <td>191862</td>\n",
       "      <td>191862</td>\n",
       "      <td>-58138</td>\n",
       "      <td>loss</td>\n",
       "      <td>Sony Pictures Classics</td>\n",
       "      <td>R</td>\n",
       "      <td>Drama</td>\n",
       "    </tr>\n",
       "  </tbody>\n",
       "</table>\n",
       "</div>"
      ],
      "text/plain": [
       "      Unnamed: 0 release_date                        movie  production_budget  \\\n",
       "3360        3397   10/28/2011                   Like Crazy             250000   \n",
       "3361        3398    7/14/2000                   Chuck&Buck             250000   \n",
       "3362        3399    3/28/1997  Love and Other Catastrophes             250000   \n",
       "3363        3400    8/28/1998   I Married a Strange Person             250000   \n",
       "3364        3401    7/22/2005                     November             250000   \n",
       "\n",
       "      domestic_gross  worldwide_gross   profit Profit/Loss  \\\n",
       "3360         3395391          3728400  3478400      profit   \n",
       "3361         1055671          1157672   907672      profit   \n",
       "3362          212285           743216   493216      profit   \n",
       "3363          203134           203134   -46866        loss   \n",
       "3364          191862           191862   -58138        loss   \n",
       "\n",
       "                 distributor mpaa_rating   genre  \n",
       "3360      Paramount Pictures       PG-13   Drama  \n",
       "3361                 Artisan           R   Drama  \n",
       "3362         Fox Searchlight           R  Comedy  \n",
       "3363               Lionsgate         NaN  Comedy  \n",
       "3364  Sony Pictures Classics           R   Drama  "
      ]
     },
     "execution_count": 10,
     "metadata": {},
     "output_type": "execute_result"
    }
   ],
   "source": [
    "df.tail()"
   ]
  },
  {
   "cell_type": "code",
   "execution_count": 11,
   "id": "790b9ca0-63d9-4067-84e8-baa28851ac3e",
   "metadata": {},
   "outputs": [
    {
     "name": "stdout",
     "output_type": "stream",
     "text": [
      "<class 'pandas.core.frame.DataFrame'>\n",
      "RangeIndex: 3365 entries, 0 to 3364\n",
      "Data columns (total 11 columns):\n",
      " #   Column             Non-Null Count  Dtype \n",
      "---  ------             --------------  ----- \n",
      " 0   Unnamed: 0         3365 non-null   int64 \n",
      " 1   release_date       3365 non-null   object\n",
      " 2   movie              3365 non-null   object\n",
      " 3   production_budget  3365 non-null   int64 \n",
      " 4   domestic_gross     3365 non-null   int64 \n",
      " 5   worldwide_gross    3365 non-null   int64 \n",
      " 6   profit             3365 non-null   int64 \n",
      " 7   Profit/Loss        3365 non-null   object\n",
      " 8   distributor        3322 non-null   object\n",
      " 9   mpaa_rating        3233 non-null   object\n",
      " 10  genre              3365 non-null   object\n",
      "dtypes: int64(5), object(6)\n",
      "memory usage: 289.3+ KB\n"
     ]
    }
   ],
   "source": [
    "df.info()"
   ]
  },
  {
   "cell_type": "code",
   "execution_count": 12,
   "id": "96bc2854-dce6-4adb-99de-32691401546f",
   "metadata": {},
   "outputs": [
    {
     "data": {
      "text/html": [
       "<div>\n",
       "<style scoped>\n",
       "    .dataframe tbody tr th:only-of-type {\n",
       "        vertical-align: middle;\n",
       "    }\n",
       "\n",
       "    .dataframe tbody tr th {\n",
       "        vertical-align: top;\n",
       "    }\n",
       "\n",
       "    .dataframe thead th {\n",
       "        text-align: right;\n",
       "    }\n",
       "</style>\n",
       "<table border=\"1\" class=\"dataframe\">\n",
       "  <thead>\n",
       "    <tr style=\"text-align: right;\">\n",
       "      <th></th>\n",
       "      <th>Unnamed: 0</th>\n",
       "      <th>production_budget</th>\n",
       "      <th>domestic_gross</th>\n",
       "      <th>worldwide_gross</th>\n",
       "      <th>profit</th>\n",
       "    </tr>\n",
       "  </thead>\n",
       "  <tbody>\n",
       "    <tr>\n",
       "      <th>count</th>\n",
       "      <td>3365.000000</td>\n",
       "      <td>3.365000e+03</td>\n",
       "      <td>3.365000e+03</td>\n",
       "      <td>3.365000e+03</td>\n",
       "      <td>3.365000e+03</td>\n",
       "    </tr>\n",
       "    <tr>\n",
       "      <th>mean</th>\n",
       "      <td>1689.485884</td>\n",
       "      <td>3.351283e+07</td>\n",
       "      <td>4.590773e+07</td>\n",
       "      <td>9.512200e+07</td>\n",
       "      <td>6.160917e+07</td>\n",
       "    </tr>\n",
       "    <tr>\n",
       "      <th>std</th>\n",
       "      <td>977.740641</td>\n",
       "      <td>3.487192e+07</td>\n",
       "      <td>5.895062e+07</td>\n",
       "      <td>1.413317e+08</td>\n",
       "      <td>1.213050e+08</td>\n",
       "    </tr>\n",
       "    <tr>\n",
       "      <th>min</th>\n",
       "      <td>1.000000</td>\n",
       "      <td>2.500000e+05</td>\n",
       "      <td>0.000000e+00</td>\n",
       "      <td>4.230000e+02</td>\n",
       "      <td>-1.104502e+08</td>\n",
       "    </tr>\n",
       "    <tr>\n",
       "      <th>25%</th>\n",
       "      <td>844.000000</td>\n",
       "      <td>9.600000e+06</td>\n",
       "      <td>6.600000e+06</td>\n",
       "      <td>1.111577e+07</td>\n",
       "      <td>-2.178990e+06</td>\n",
       "    </tr>\n",
       "    <tr>\n",
       "      <th>50%</th>\n",
       "      <td>1685.000000</td>\n",
       "      <td>2.000000e+07</td>\n",
       "      <td>2.588500e+07</td>\n",
       "      <td>4.116603e+07</td>\n",
       "      <td>1.692159e+07</td>\n",
       "    </tr>\n",
       "    <tr>\n",
       "      <th>75%</th>\n",
       "      <td>2532.000000</td>\n",
       "      <td>4.500000e+07</td>\n",
       "      <td>6.078627e+07</td>\n",
       "      <td>1.195000e+08</td>\n",
       "      <td>7.590000e+07</td>\n",
       "    </tr>\n",
       "    <tr>\n",
       "      <th>max</th>\n",
       "      <td>3401.000000</td>\n",
       "      <td>1.750000e+08</td>\n",
       "      <td>4.745447e+08</td>\n",
       "      <td>1.304866e+09</td>\n",
       "      <td>1.134866e+09</td>\n",
       "    </tr>\n",
       "  </tbody>\n",
       "</table>\n",
       "</div>"
      ],
      "text/plain": [
       "        Unnamed: 0  production_budget  domestic_gross  worldwide_gross  \\\n",
       "count  3365.000000       3.365000e+03    3.365000e+03     3.365000e+03   \n",
       "mean   1689.485884       3.351283e+07    4.590773e+07     9.512200e+07   \n",
       "std     977.740641       3.487192e+07    5.895062e+07     1.413317e+08   \n",
       "min       1.000000       2.500000e+05    0.000000e+00     4.230000e+02   \n",
       "25%     844.000000       9.600000e+06    6.600000e+06     1.111577e+07   \n",
       "50%    1685.000000       2.000000e+07    2.588500e+07     4.116603e+07   \n",
       "75%    2532.000000       4.500000e+07    6.078627e+07     1.195000e+08   \n",
       "max    3401.000000       1.750000e+08    4.745447e+08     1.304866e+09   \n",
       "\n",
       "             profit  \n",
       "count  3.365000e+03  \n",
       "mean   6.160917e+07  \n",
       "std    1.213050e+08  \n",
       "min   -1.104502e+08  \n",
       "25%   -2.178990e+06  \n",
       "50%    1.692159e+07  \n",
       "75%    7.590000e+07  \n",
       "max    1.134866e+09  "
      ]
     },
     "execution_count": 12,
     "metadata": {},
     "output_type": "execute_result"
    }
   ],
   "source": [
    "df.describe()"
   ]
  },
  {
   "cell_type": "code",
   "execution_count": 13,
   "id": "c27dafca-e959-4b32-ba76-0bc1b485d883",
   "metadata": {},
   "outputs": [],
   "source": [
    "df = df.dropna() #dopping null values\n",
    "\n",
    "#we dropped 163 rows"
   ]
  },
  {
   "cell_type": "code",
   "execution_count": 14,
   "id": "b14b7219-026a-404a-a394-382798a3faf6",
   "metadata": {},
   "outputs": [
    {
     "data": {
      "text/plain": [
       "Index(['Unnamed: 0', 'release_date', 'movie', 'production_budget',\n",
       "       'domestic_gross', 'worldwide_gross', 'profit', 'Profit/Loss',\n",
       "       'distributor', 'mpaa_rating', 'genre'],\n",
       "      dtype='object')"
      ]
     },
     "execution_count": 14,
     "metadata": {},
     "output_type": "execute_result"
    }
   ],
   "source": [
    "df.columns"
   ]
  },
  {
   "cell_type": "code",
   "execution_count": 15,
   "id": "538c0067-02d7-4ac1-920a-32fb843acb58",
   "metadata": {},
   "outputs": [
    {
     "data": {
      "text/plain": [
       "profit    2243\n",
       "loss       959\n",
       "Name: Profit/Loss, dtype: int64"
      ]
     },
     "execution_count": 15,
     "metadata": {},
     "output_type": "execute_result"
    }
   ],
   "source": [
    "df['Profit/Loss'].value_counts()"
   ]
  },
  {
   "cell_type": "code",
   "execution_count": 16,
   "id": "0c47cf07-0a05-4131-9318-4801c080840b",
   "metadata": {},
   "outputs": [
    {
     "data": {
      "text/plain": [
       "Warner Bros.          362\n",
       "Sony Pictures         333\n",
       "Universal             283\n",
       "20th Century Fox      272\n",
       "Paramount Pictures    255\n",
       "Name: distributor, dtype: int64"
      ]
     },
     "execution_count": 16,
     "metadata": {},
     "output_type": "execute_result"
    }
   ],
   "source": [
    "df['distributor'].value_counts().head()  #this should be accounted for in regression"
   ]
  },
  {
   "cell_type": "code",
   "execution_count": 17,
   "id": "1fc1ca86-414c-4abe-9df7-94c7622133e6",
   "metadata": {},
   "outputs": [
    {
     "data": {
      "text/plain": [
       "R        1476\n",
       "PG-13    1082\n",
       "PG        560\n",
       "G          84\n",
       "Name: mpaa_rating, dtype: int64"
      ]
     },
     "execution_count": 17,
     "metadata": {},
     "output_type": "execute_result"
    }
   ],
   "source": [
    "df['mpaa_rating'].value_counts()"
   ]
  },
  {
   "cell_type": "code",
   "execution_count": 18,
   "id": "1af0289c-e5d8-42ce-8bef-7794cf3540bb",
   "metadata": {},
   "outputs": [
    {
     "data": {
      "text/plain": [
       "Drama        1172\n",
       "Comedy        769\n",
       "Action        532\n",
       "Adventure     465\n",
       "Horror        264\n",
       "Name: genre, dtype: int64"
      ]
     },
     "execution_count": 18,
     "metadata": {},
     "output_type": "execute_result"
    }
   ],
   "source": [
    "df['genre'].value_counts()"
   ]
  },
  {
   "cell_type": "code",
   "execution_count": 19,
   "id": "1ebe1246-c122-4975-af51-e586cb6c84fc",
   "metadata": {},
   "outputs": [],
   "source": [
    "df['release_date'] = pd.to_datetime(df['release_date'])\n",
    "#converted release date column from object to date, found the min and mx years of the data"
   ]
  },
  {
   "cell_type": "markdown",
   "id": "aef87b77-bdee-4ec6-a8d1-665f6df0032c",
   "metadata": {},
   "source": [
    "## Summary Statistics"
   ]
  },
  {
   "cell_type": "code",
   "execution_count": 20,
   "id": "0c6dadf7-0fb7-46f6-b381-18976db02ef8",
   "metadata": {},
   "outputs": [
    {
     "name": "stdout",
     "output_type": "stream",
     "text": [
      "The  min budget is 250000 and the max budget is 175000000\n"
     ]
    }
   ],
   "source": [
    "#lowest budget is 25000 (find movies) identify movie also\n",
    "min_prod_budget=df['production_budget'].min()\n",
    "min_prod_budget\n",
    "\n",
    "#highest prod budget identify movie also\n",
    "max_prod_budget=df['production_budget'].max()\n",
    "max_prod_budget\n",
    "\n",
    "print (f\"The  min budget is { min_prod_budget } and the max budget is {max_prod_budget}\")"
   ]
  },
  {
   "cell_type": "code",
   "execution_count": 21,
   "id": "c60c8c85-3561-4f65-9626-e286dae9709a",
   "metadata": {},
   "outputs": [
    {
     "name": "stdout",
     "output_type": "stream",
     "text": [
      "The production budget mean is 34774026\n"
     ]
    }
   ],
   "source": [
    "mean_prod_budget = round(df['production_budget'].mean())\n",
    "print (f\"The production budget mean is {mean_prod_budget}\")"
   ]
  },
  {
   "cell_type": "code",
   "execution_count": 22,
   "id": "36f87dee-e294-458c-a5b1-35a2ced8e445",
   "metadata": {},
   "outputs": [
    {
     "name": "stdout",
     "output_type": "stream",
     "text": [
      "The production budget median is 22000000\n"
     ]
    }
   ],
   "source": [
    "median_prod_budget = round(df['production_budget'].median())\n",
    "print (f\"The production budget median is {median_prod_budget}\")"
   ]
  },
  {
   "cell_type": "code",
   "execution_count": 23,
   "id": "a0d170fe-983b-4f8f-9e8a-c10f42ab578c",
   "metadata": {},
   "outputs": [
    {
     "name": "stdout",
     "output_type": "stream",
     "text": [
      "1240772954519998\n",
      "35224607\n"
     ]
    }
   ],
   "source": [
    "#add variance here\n",
    "\n",
    "# Calculate the variance of the 'numbers' column\n",
    "prod_budget_variance = round(df['production_budget'].var())\n",
    "print(prod_budget_variance)\n",
    "\n",
    "# Calculate the standard deviation of the 'numbers' column\n",
    "prod_budget_std_dev = round(df['production_budget'].std())\n",
    "print(prod_budget_std_dev)"
   ]
  },
  {
   "cell_type": "code",
   "execution_count": 24,
   "id": "ae8d83da-64e4-4be1-b2d4-aa9fae0753f6",
   "metadata": {},
   "outputs": [
    {
     "data": {
      "text/plain": [
       "profit    2243\n",
       "loss       959\n",
       "Name: Profit/Loss, dtype: int64"
      ]
     },
     "execution_count": 24,
     "metadata": {},
     "output_type": "execute_result"
    }
   ],
   "source": [
    "#What is the mode of the profit/loss ?\n",
    "profit_mode = df['Profit/Loss'].value_counts()\n",
    "profit_mode\n"
   ]
  },
  {
   "cell_type": "code",
   "execution_count": 25,
   "id": "1ad05fa2-fe5a-4eb6-b8b4-4ddba09912e1",
   "metadata": {},
   "outputs": [
    {
     "name": "stdout",
     "output_type": "stream",
     "text": [
      "Number of Missing values in production_budget is: 0\n"
     ]
    }
   ],
   "source": [
    "missing_value = df.isna().sum()['production_budget']\n",
    "print(f'Number of Missing values in production_budget is: {missing_value}')\n",
    "#Number of values missing is 0"
   ]
  },
  {
   "cell_type": "code",
   "execution_count": 26,
   "id": "ae3e3eed-1f91-46d2-b800-87d353dcfd61",
   "metadata": {},
   "outputs": [],
   "source": [
    "# df=df.sort_values(by='production_budget', ascending=True, na_position='first')\n",
    "# df.head() #table is now sorted by production budget"
   ]
  },
  {
   "cell_type": "code",
   "execution_count": 27,
   "id": "7b5c573a-57f1-47ed-acfa-42d29aa9566a",
   "metadata": {},
   "outputs": [
    {
     "data": {
      "text/plain": [
       "Index(['Unnamed: 0', 'release_date', 'movie', 'production_budget',\n",
       "       'domestic_gross', 'worldwide_gross', 'profit', 'Profit/Loss',\n",
       "       'distributor', 'mpaa_rating', 'genre'],\n",
       "      dtype='object')"
      ]
     },
     "execution_count": 27,
     "metadata": {},
     "output_type": "execute_result"
    }
   ],
   "source": [
    "df.columns"
   ]
  },
  {
   "cell_type": "markdown",
   "id": "9ef89b9e-39ac-4153-a529-59617e0058d7",
   "metadata": {},
   "source": [
    "### Calculations"
   ]
  },
  {
   "cell_type": "code",
   "execution_count": 29,
   "id": "967ad6c1-f6cc-483c-aae0-e86606460f8c",
   "metadata": {},
   "outputs": [
    {
     "data": {
      "text/html": [
       "<div>\n",
       "<style scoped>\n",
       "    .dataframe tbody tr th:only-of-type {\n",
       "        vertical-align: middle;\n",
       "    }\n",
       "\n",
       "    .dataframe tbody tr th {\n",
       "        vertical-align: top;\n",
       "    }\n",
       "\n",
       "    .dataframe thead th {\n",
       "        text-align: right;\n",
       "    }\n",
       "</style>\n",
       "<table border=\"1\" class=\"dataframe\">\n",
       "  <thead>\n",
       "    <tr style=\"text-align: right;\">\n",
       "      <th></th>\n",
       "      <th>Unnamed: 0</th>\n",
       "      <th>release_date</th>\n",
       "      <th>movie</th>\n",
       "      <th>production_budget</th>\n",
       "      <th>domestic_gross</th>\n",
       "      <th>worldwide_gross</th>\n",
       "      <th>profit</th>\n",
       "      <th>Profit/Loss</th>\n",
       "      <th>distributor</th>\n",
       "      <th>mpaa_rating</th>\n",
       "      <th>genre</th>\n",
       "    </tr>\n",
       "  </thead>\n",
       "  <tbody>\n",
       "    <tr>\n",
       "      <th>min</th>\n",
       "      <td>1</td>\n",
       "      <td>1936-02-05</td>\n",
       "      <td>10 Days in a Madhouse</td>\n",
       "      <td>250000</td>\n",
       "      <td>0</td>\n",
       "      <td>423</td>\n",
       "      <td>-110450242</td>\n",
       "      <td>loss</td>\n",
       "      <td>20th Century Fox</td>\n",
       "      <td>G</td>\n",
       "      <td>Action</td>\n",
       "    </tr>\n",
       "    <tr>\n",
       "      <th>max</th>\n",
       "      <td>3401</td>\n",
       "      <td>2018-10-12</td>\n",
       "      <td>長江七號 (CJ7)</td>\n",
       "      <td>175000000</td>\n",
       "      <td>474544677</td>\n",
       "      <td>1304866322</td>\n",
       "      <td>1134866322</td>\n",
       "      <td>profit</td>\n",
       "      <td>Zeitgeist</td>\n",
       "      <td>R</td>\n",
       "      <td>Horror</td>\n",
       "    </tr>\n",
       "  </tbody>\n",
       "</table>\n",
       "</div>"
      ],
      "text/plain": [
       "     Unnamed: 0 release_date                  movie  production_budget  \\\n",
       "min           1   1936-02-05  10 Days in a Madhouse             250000   \n",
       "max        3401   2018-10-12             長江七號 (CJ7)          175000000   \n",
       "\n",
       "     domestic_gross  worldwide_gross      profit Profit/Loss  \\\n",
       "min               0              423  -110450242        loss   \n",
       "max       474544677       1304866322  1134866322      profit   \n",
       "\n",
       "          distributor mpaa_rating   genre  \n",
       "min  20th Century Fox           G  Action  \n",
       "max         Zeitgeist           R  Horror  "
      ]
     },
     "execution_count": 29,
     "metadata": {},
     "output_type": "execute_result"
    }
   ],
   "source": [
    "#Finding the data for the minimum and maximum movies by release_date\n",
    "df.agg(['min','max'])\n"
   ]
  },
  {
   "cell_type": "code",
   "execution_count": 30,
   "id": "6e91c7c5-d369-42bf-a934-6df112437ef6",
   "metadata": {},
   "outputs": [
    {
     "data": {
      "text/html": [
       "<div>\n",
       "<style scoped>\n",
       "    .dataframe tbody tr th:only-of-type {\n",
       "        vertical-align: middle;\n",
       "    }\n",
       "\n",
       "    .dataframe tbody tr th {\n",
       "        vertical-align: top;\n",
       "    }\n",
       "\n",
       "    .dataframe thead th {\n",
       "        text-align: right;\n",
       "    }\n",
       "</style>\n",
       "<table border=\"1\" class=\"dataframe\">\n",
       "  <thead>\n",
       "    <tr style=\"text-align: right;\">\n",
       "      <th></th>\n",
       "      <th>Unnamed: 0</th>\n",
       "      <th>release_date</th>\n",
       "      <th>movie</th>\n",
       "      <th>domestic_gross</th>\n",
       "      <th>worldwide_gross</th>\n",
       "      <th>production_budget</th>\n",
       "      <th>profit</th>\n",
       "      <th>percentage_profit</th>\n",
       "      <th>Profit/Loss</th>\n",
       "      <th>distributor</th>\n",
       "      <th>mpaa_rating</th>\n",
       "      <th>genre</th>\n",
       "    </tr>\n",
       "  </thead>\n",
       "  <tbody>\n",
       "    <tr>\n",
       "      <th>0</th>\n",
       "      <td>1</td>\n",
       "      <td>2007-06-22</td>\n",
       "      <td>Evan Almighty</td>\n",
       "      <td>100289690</td>\n",
       "      <td>174131329</td>\n",
       "      <td>175000000</td>\n",
       "      <td>-868671</td>\n",
       "      <td>-100.496383</td>\n",
       "      <td>loss</td>\n",
       "      <td>Universal</td>\n",
       "      <td>PG</td>\n",
       "      <td>Comedy</td>\n",
       "    </tr>\n",
       "    <tr>\n",
       "      <th>1</th>\n",
       "      <td>2</td>\n",
       "      <td>1995-07-28</td>\n",
       "      <td>Waterworld</td>\n",
       "      <td>88246220</td>\n",
       "      <td>264246220</td>\n",
       "      <td>175000000</td>\n",
       "      <td>89246220</td>\n",
       "      <td>-49.002160</td>\n",
       "      <td>profit</td>\n",
       "      <td>Universal</td>\n",
       "      <td>PG-13</td>\n",
       "      <td>Action</td>\n",
       "    </tr>\n",
       "    <tr>\n",
       "      <th>2</th>\n",
       "      <td>3</td>\n",
       "      <td>2017-05-12</td>\n",
       "      <td>King Arthur: Legend of the Sword</td>\n",
       "      <td>39175066</td>\n",
       "      <td>139950708</td>\n",
       "      <td>175000000</td>\n",
       "      <td>-35049292</td>\n",
       "      <td>-120.028167</td>\n",
       "      <td>loss</td>\n",
       "      <td>Warner Bros.</td>\n",
       "      <td>PG-13</td>\n",
       "      <td>Adventure</td>\n",
       "    </tr>\n",
       "    <tr>\n",
       "      <th>3</th>\n",
       "      <td>4</td>\n",
       "      <td>2013-12-25</td>\n",
       "      <td>47 Ronin</td>\n",
       "      <td>38362475</td>\n",
       "      <td>151716815</td>\n",
       "      <td>175000000</td>\n",
       "      <td>-23283185</td>\n",
       "      <td>-113.304677</td>\n",
       "      <td>loss</td>\n",
       "      <td>Universal</td>\n",
       "      <td>PG-13</td>\n",
       "      <td>Action</td>\n",
       "    </tr>\n",
       "    <tr>\n",
       "      <th>4</th>\n",
       "      <td>5</td>\n",
       "      <td>2018-06-22</td>\n",
       "      <td>Jurassic World: Fallen Kingdom</td>\n",
       "      <td>416769345</td>\n",
       "      <td>1304866322</td>\n",
       "      <td>170000000</td>\n",
       "      <td>1134866322</td>\n",
       "      <td>567.568425</td>\n",
       "      <td>profit</td>\n",
       "      <td>Universal</td>\n",
       "      <td>PG-13</td>\n",
       "      <td>Action</td>\n",
       "    </tr>\n",
       "  </tbody>\n",
       "</table>\n",
       "</div>"
      ],
      "text/plain": [
       "   Unnamed: 0 release_date                             movie  domestic_gross  \\\n",
       "0           1   2007-06-22                     Evan Almighty       100289690   \n",
       "1           2   1995-07-28                        Waterworld        88246220   \n",
       "2           3   2017-05-12  King Arthur: Legend of the Sword        39175066   \n",
       "3           4   2013-12-25                          47 Ronin        38362475   \n",
       "4           5   2018-06-22    Jurassic World: Fallen Kingdom       416769345   \n",
       "\n",
       "   worldwide_gross  production_budget      profit  percentage_profit  \\\n",
       "0        174131329          175000000     -868671        -100.496383   \n",
       "1        264246220          175000000    89246220         -49.002160   \n",
       "2        139950708          175000000   -35049292        -120.028167   \n",
       "3        151716815          175000000   -23283185        -113.304677   \n",
       "4       1304866322          170000000  1134866322         567.568425   \n",
       "\n",
       "  Profit/Loss   distributor mpaa_rating      genre  \n",
       "0        loss     Universal          PG     Comedy  \n",
       "1      profit     Universal       PG-13     Action  \n",
       "2        loss  Warner Bros.       PG-13  Adventure  \n",
       "3        loss     Universal       PG-13     Action  \n",
       "4      profit     Universal       PG-13     Action  "
      ]
     },
     "execution_count": 30,
     "metadata": {},
     "output_type": "execute_result"
    }
   ],
   "source": [
    "#determine the most successful distributor based on profit percentage\n",
    "df['percentage_profit']=(df['profit']/df['production_budget']*100)-100\n",
    "df.columns\n",
    "df=df.loc[:,['Unnamed: 0','release_date','movie','domestic_gross','worldwide_gross',\n",
    "           'production_budget','profit','percentage_profit','Profit/Loss','distributor','mpaa_rating',\n",
    "           'genre']]\n",
    "df.head()"
   ]
  },
  {
   "cell_type": "code",
   "execution_count": 31,
   "id": "6f6b4a35-cf2a-4a52-bb97-8ab5cdd6dac0",
   "metadata": {},
   "outputs": [
    {
     "data": {
      "text/html": [
       "<div>\n",
       "<style scoped>\n",
       "    .dataframe tbody tr th:only-of-type {\n",
       "        vertical-align: middle;\n",
       "    }\n",
       "\n",
       "    .dataframe tbody tr th {\n",
       "        vertical-align: top;\n",
       "    }\n",
       "\n",
       "    .dataframe thead th {\n",
       "        text-align: right;\n",
       "    }\n",
       "</style>\n",
       "<table border=\"1\" class=\"dataframe\">\n",
       "  <thead>\n",
       "    <tr style=\"text-align: right;\">\n",
       "      <th></th>\n",
       "      <th>genre</th>\n",
       "      <th>percentage_profit</th>\n",
       "    </tr>\n",
       "  </thead>\n",
       "  <tbody>\n",
       "    <tr>\n",
       "      <th>0</th>\n",
       "      <td>Action</td>\n",
       "      <td>64774.073607</td>\n",
       "    </tr>\n",
       "    <tr>\n",
       "      <th>1</th>\n",
       "      <td>Adventure</td>\n",
       "      <td>79997.599630</td>\n",
       "    </tr>\n",
       "    <tr>\n",
       "      <th>2</th>\n",
       "      <td>Comedy</td>\n",
       "      <td>122565.220138</td>\n",
       "    </tr>\n",
       "    <tr>\n",
       "      <th>3</th>\n",
       "      <td>Drama</td>\n",
       "      <td>227465.012541</td>\n",
       "    </tr>\n",
       "    <tr>\n",
       "      <th>4</th>\n",
       "      <td>Horror</td>\n",
       "      <td>244537.110571</td>\n",
       "    </tr>\n",
       "  </tbody>\n",
       "</table>\n",
       "</div>"
      ],
      "text/plain": [
       "       genre  percentage_profit\n",
       "0     Action       64774.073607\n",
       "1  Adventure       79997.599630\n",
       "2     Comedy      122565.220138\n",
       "3      Drama      227465.012541\n",
       "4     Horror      244537.110571"
      ]
     },
     "execution_count": 31,
     "metadata": {},
     "output_type": "execute_result"
    }
   ],
   "source": [
    "#determine the most successful genre based on profit percentage\n",
    "profit_by_genre=df.groupby(by='genre')['percentage_profit'].sum().reset_index()\n",
    "profit_by_genre\n"
   ]
  },
  {
   "cell_type": "markdown",
   "id": "98bd424e-255f-44e8-92c5-065186acff6b",
   "metadata": {},
   "source": [
    "### Visualizations"
   ]
  },
  {
   "cell_type": "code",
   "execution_count": 32,
   "id": "352a0a1c-09f8-4f46-92e6-611f5fa5d4fb",
   "metadata": {},
   "outputs": [
    {
     "name": "stdout",
     "output_type": "stream",
     "text": [
      "['Solarize_Light2', '_classic_test_patch', 'bmh', 'classic', 'dark_background', 'fast', 'fivethirtyeight', 'ggplot', 'grayscale', 'seaborn', 'seaborn-bright', 'seaborn-colorblind', 'seaborn-dark', 'seaborn-dark-palette', 'seaborn-darkgrid', 'seaborn-deep', 'seaborn-muted', 'seaborn-notebook', 'seaborn-paper', 'seaborn-pastel', 'seaborn-poster', 'seaborn-talk', 'seaborn-ticks', 'seaborn-white', 'seaborn-whitegrid', 'tableau-colorblind10']\n"
     ]
    }
   ],
   "source": [
    "print(plt.style.available)"
   ]
  },
  {
   "cell_type": "code",
   "execution_count": 33,
   "id": "fb9a6f64-e049-400a-a581-1501a78498fe",
   "metadata": {},
   "outputs": [],
   "source": [
    "plt.style.use('_classic_test_patch')"
   ]
  },
  {
   "cell_type": "code",
   "execution_count": 34,
   "id": "4c69301d-fd7e-4137-a23d-fded70e77169",
   "metadata": {
    "tags": []
   },
   "outputs": [
    {
     "data": {
      "image/png": "[encoded data removed]",
      "text/plain": [
       "<Figure size 432x288 with 1 Axes>"
      ]
     },
     "metadata": {
      "needs_background": "light"
     },
     "output_type": "display_data"
    }
   ],
   "source": [
    "plt.style.use('tableau-colorblind10')\n",
    "x=profit_by_genre['genre']\n",
    "y=round(profit_by_genre['percentage_profit'])\n",
    "#print(x,y)\n",
    "plt.bar(x, y)\n",
    "#plt.bar(x, y, color='purple')\n",
    "plt.show()"
   ]
  },
  {
   "cell_type": "code",
   "execution_count": 35,
   "id": "033b0fe1-be7e-42cb-9ead-342028fe2fc7",
   "metadata": {},
   "outputs": [
    {
     "name": "stderr",
     "output_type": "stream",
     "text": [
      "/Library/Frameworks/Python.framework/Versions/3.9/lib/python3.9/site-packages/seaborn/_decorators.py:36: FutureWarning: Pass the following variables as keyword args: x, y. From version 0.12, the only valid positional argument will be `data`, and passing other arguments without an explicit keyword will result in an error or misinterpretation.\n",
      "  warnings.warn(\n"
     ]
    },
    {
     "data": {
      "text/plain": [
       "<AxesSubplot:xlabel='genre', ylabel='percentage_profit'>"
      ]
     },
     "execution_count": 35,
     "metadata": {},
     "output_type": "execute_result"
    },
    {
     "data": {
      "image/png": "[encoded data removed]",
      "text/plain": [
       "<Figure size 432x288 with 1 Axes>"
      ]
     },
     "metadata": {
      "needs_background": "light"
     },
     "output_type": "display_data"
    }
   ],
   "source": [
    "sns.barplot(x, y, data=profit_by_genre)"
   ]
  },
  {
   "cell_type": "code",
   "execution_count": 36,
   "id": "1abdc086-1113-4c1f-8053-620b517202ab",
   "metadata": {},
   "outputs": [
    {
     "data": {
      "text/plain": [
       "Index(['genre', 'percentage_profit'], dtype='object')"
      ]
     },
     "execution_count": 36,
     "metadata": {},
     "output_type": "execute_result"
    }
   ],
   "source": [
    "profit_by_genre.columns"
   ]
  },
  {
   "cell_type": "code",
   "execution_count": 37,
   "id": "177c2e06-3075-4ef5-9227-eb726a8970e6",
   "metadata": {},
   "outputs": [
    {
     "data": {
      "text/html": [
       "<div>\n",
       "<style scoped>\n",
       "    .dataframe tbody tr th:only-of-type {\n",
       "        vertical-align: middle;\n",
       "    }\n",
       "\n",
       "    .dataframe tbody tr th {\n",
       "        vertical-align: top;\n",
       "    }\n",
       "\n",
       "    .dataframe thead th {\n",
       "        text-align: right;\n",
       "    }\n",
       "</style>\n",
       "<table border=\"1\" class=\"dataframe\">\n",
       "  <thead>\n",
       "    <tr style=\"text-align: right;\">\n",
       "      <th></th>\n",
       "      <th>distributor</th>\n",
       "      <th>percentage_profit</th>\n",
       "    </tr>\n",
       "  </thead>\n",
       "  <tbody>\n",
       "    <tr>\n",
       "      <th>110</th>\n",
       "      <td>Paramount Pictures</td>\n",
       "      <td>109257.690258</td>\n",
       "    </tr>\n",
       "    <tr>\n",
       "      <th>157</th>\n",
       "      <td>Universal</td>\n",
       "      <td>99483.304624</td>\n",
       "    </tr>\n",
       "    <tr>\n",
       "      <th>0</th>\n",
       "      <td>20th Century Fox</td>\n",
       "      <td>54444.697273</td>\n",
       "    </tr>\n",
       "    <tr>\n",
       "      <th>164</th>\n",
       "      <td>Warner Bros.</td>\n",
       "      <td>53839.349196</td>\n",
       "    </tr>\n",
       "    <tr>\n",
       "      <th>10</th>\n",
       "      <td>Artisan</td>\n",
       "      <td>41195.717085</td>\n",
       "    </tr>\n",
       "  </tbody>\n",
       "</table>\n",
       "</div>"
      ],
      "text/plain": [
       "            distributor  percentage_profit\n",
       "110  Paramount Pictures      109257.690258\n",
       "157           Universal       99483.304624\n",
       "0      20th Century Fox       54444.697273\n",
       "164        Warner Bros.       53839.349196\n",
       "10              Artisan       41195.717085"
      ]
     },
     "execution_count": 37,
     "metadata": {},
     "output_type": "execute_result"
    }
   ],
   "source": [
    "#determine the most successful distributor based on profit percentage\n",
    "profit_by_distributor=df.groupby(by='distributor')['percentage_profit'].sum().reset_index()\n",
    "#profit_by_distributor=profit_by_distributor.to_frame()\n",
    "\n",
    "\n",
    "\n",
    "#top 5 distributors by percentage profit\n",
    "profit_by_distributor_top_five=profit_by_distributor.sort_values(by=['percentage_profit'],ascending=False).head()\n",
    "\n",
    "profit_by_distributor_top_five"
   ]
  },
  {
   "cell_type": "code",
   "execution_count": 38,
   "id": "9e1b8c8a-2b57-4a96-ae84-c8a1652485bf",
   "metadata": {},
   "outputs": [
    {
     "data": {
      "image/png": "[encoded data removed]",
      "text/plain": [
       "<Figure size 720x360 with 1 Axes>"
      ]
     },
     "metadata": {
      "needs_background": "light"
     },
     "output_type": "display_data"
    }
   ],
   "source": [
    "x=profit_by_distributor_top_five['distributor']\n",
    "y=round(profit_by_distributor_top_five['percentage_profit'])\n",
    "#print(x,y)\n",
    "plt.figure(figsize=(10, 5))\n",
    "plt.bar(x, y)\n",
    "plt.bar(x, y, color='yellow',edgecolor='black')\n",
    "plt.show()\n",
    "#As we can see below, the most successful distributor is Paramount pictures"
   ]
  },
  {
   "cell_type": "code",
   "execution_count": 39,
   "id": "745384ce-b1fa-4b06-bac8-58536916b7df",
   "metadata": {},
   "outputs": [
    {
     "data": {
      "text/html": [
       "<div>\n",
       "<style scoped>\n",
       "    .dataframe tbody tr th:only-of-type {\n",
       "        vertical-align: middle;\n",
       "    }\n",
       "\n",
       "    .dataframe tbody tr th {\n",
       "        vertical-align: top;\n",
       "    }\n",
       "\n",
       "    .dataframe thead th {\n",
       "        text-align: right;\n",
       "    }\n",
       "</style>\n",
       "<table border=\"1\" class=\"dataframe\">\n",
       "  <thead>\n",
       "    <tr style=\"text-align: right;\">\n",
       "      <th></th>\n",
       "      <th>distributor</th>\n",
       "      <th>percentage_profit</th>\n",
       "    </tr>\n",
       "  </thead>\n",
       "  <tbody>\n",
       "    <tr>\n",
       "      <th>8</th>\n",
       "      <td>Anchor Bay Entertai…</td>\n",
       "      <td>-2411.292039</td>\n",
       "    </tr>\n",
       "    <tr>\n",
       "      <th>52</th>\n",
       "      <td>Freestyle Releasing</td>\n",
       "      <td>-2089.272435</td>\n",
       "    </tr>\n",
       "    <tr>\n",
       "      <th>150</th>\n",
       "      <td>ThinkFilm</td>\n",
       "      <td>-1206.123475</td>\n",
       "    </tr>\n",
       "    <tr>\n",
       "      <th>6</th>\n",
       "      <td>Alchemy</td>\n",
       "      <td>-1106.203775</td>\n",
       "    </tr>\n",
       "    <tr>\n",
       "      <th>90</th>\n",
       "      <td>Monterey Media</td>\n",
       "      <td>-985.225393</td>\n",
       "    </tr>\n",
       "  </tbody>\n",
       "</table>\n",
       "</div>"
      ],
      "text/plain": [
       "              distributor  percentage_profit\n",
       "8    Anchor Bay Entertai…       -2411.292039\n",
       "52    Freestyle Releasing       -2089.272435\n",
       "150             ThinkFilm       -1206.123475\n",
       "6                 Alchemy       -1106.203775\n",
       "90         Monterey Media        -985.225393"
      ]
     },
     "execution_count": 39,
     "metadata": {},
     "output_type": "execute_result"
    }
   ],
   "source": [
    "#bottom 5 distributors\n",
    "bottom_five=profit_by_distributor.sort_values(by=['percentage_profit'],ascending=True).head()\n",
    "bottom_five"
   ]
  },
  {
   "cell_type": "code",
   "execution_count": 40,
   "id": "2e9810ba-7e38-4205-9b5c-f57669cb218b",
   "metadata": {},
   "outputs": [
    {
     "data": {
      "image/png": "[encoded data removed]",
      "text/plain": [
       "<Figure size 720x360 with 1 Axes>"
      ]
     },
     "metadata": {
      "needs_background": "light"
     },
     "output_type": "display_data"
    }
   ],
   "source": [
    "x=bottom_five['distributor']\n",
    "y=round(bottom_five['percentage_profit'])\n",
    "#print(x,y)\n",
    "plt.figure(figsize=(10, 5))\n",
    "plt.bar(x, y)\n",
    "plt.bar(x, y, color='red',edgecolor='black')\n",
    "plt.show()\n",
    "#As we can see below, the least successful distributor is Anchor Bay Entertainment"
   ]
  },
  {
   "cell_type": "code",
   "execution_count": 42,
   "id": "1c03d7fe-a74f-472d-97eb-9f078490037a",
   "metadata": {},
   "outputs": [
    {
     "data": {
      "text/plain": [
       "Index(['distributor', 'percentage_profit'], dtype='object')"
      ]
     },
     "execution_count": 42,
     "metadata": {},
     "output_type": "execute_result"
    }
   ],
   "source": [
    "df_all_rows = pd.concat([profit_by_distributor_top_five,bottom_five ])\n",
    "df_all_rows.columns"
   ]
  },
  {
   "cell_type": "code",
   "execution_count": 43,
   "id": "01d69cd9-323b-44a2-942d-89f024041532",
   "metadata": {},
   "outputs": [
    {
     "data": {
      "image/png": "[encoded data removed]",
      "text/plain": [
       "<Figure size 1080x720 with 1 Axes>"
      ]
     },
     "metadata": {
      "needs_background": "light"
     },
     "output_type": "display_data"
    }
   ],
   "source": [
    "x=df_all_rows['distributor']\n",
    "y=round(df_all_rows['percentage_profit'])\n",
    "#print(x,y)\n",
    "plt.figure(figsize=(15, 10))\n",
    "plt.bar(x, y)\n",
    "plt.bar(x, y, color='blue',edgecolor='black')\n",
    "plt.gca().xaxis.set_tick_params(rotation=45)\n",
    "plt.show()\n",
    "#This combined data set is giving us the most and least successful distributors in the same bar chart."
   ]
  },
  {
   "cell_type": "code",
   "execution_count": 44,
   "id": "aa5e9dec-c50f-4353-9aff-4cf2f2499ecf",
   "metadata": {},
   "outputs": [
    {
     "name": "stdout",
     "output_type": "stream",
     "text": [
      "<class 'pandas.core.frame.DataFrame'>\n",
      "Int64Index: 5 entries, 8 to 90\n",
      "Data columns (total 2 columns):\n",
      " #   Column             Non-Null Count  Dtype  \n",
      "---  ------             --------------  -----  \n",
      " 0   distributor        5 non-null      object \n",
      " 1   percentage_profit  5 non-null      float64\n",
      "dtypes: float64(1), object(1)\n",
      "memory usage: 120.0+ bytes\n"
     ]
    }
   ],
   "source": [
    "bottom_five.info()"
   ]
  },
  {
   "cell_type": "code",
   "execution_count": 45,
   "id": "bf6fbbab-f2a8-4f8b-aac2-f1e75e6a6b29",
   "metadata": {},
   "outputs": [
    {
     "data": {
      "text/html": [
       "<div>\n",
       "<style scoped>\n",
       "    .dataframe tbody tr th:only-of-type {\n",
       "        vertical-align: middle;\n",
       "    }\n",
       "\n",
       "    .dataframe tbody tr th {\n",
       "        vertical-align: top;\n",
       "    }\n",
       "\n",
       "    .dataframe thead th {\n",
       "        text-align: right;\n",
       "    }\n",
       "</style>\n",
       "<table border=\"1\" class=\"dataframe\">\n",
       "  <thead>\n",
       "    <tr style=\"text-align: right;\">\n",
       "      <th></th>\n",
       "      <th>Unnamed: 0</th>\n",
       "      <th>release_date</th>\n",
       "      <th>movie</th>\n",
       "      <th>domestic_gross</th>\n",
       "      <th>worldwide_gross</th>\n",
       "      <th>production_budget</th>\n",
       "      <th>profit</th>\n",
       "      <th>percentage_profit</th>\n",
       "      <th>Profit/Loss</th>\n",
       "      <th>distributor</th>\n",
       "      <th>mpaa_rating</th>\n",
       "      <th>genre</th>\n",
       "    </tr>\n",
       "  </thead>\n",
       "  <tbody>\n",
       "    <tr>\n",
       "      <th>0</th>\n",
       "      <td>1</td>\n",
       "      <td>2007-06-22</td>\n",
       "      <td>Evan Almighty</td>\n",
       "      <td>100289690</td>\n",
       "      <td>174131329</td>\n",
       "      <td>175000000</td>\n",
       "      <td>-868671</td>\n",
       "      <td>-100.496383</td>\n",
       "      <td>loss</td>\n",
       "      <td>Universal</td>\n",
       "      <td>PG</td>\n",
       "      <td>Comedy</td>\n",
       "    </tr>\n",
       "    <tr>\n",
       "      <th>1</th>\n",
       "      <td>2</td>\n",
       "      <td>1995-07-28</td>\n",
       "      <td>Waterworld</td>\n",
       "      <td>88246220</td>\n",
       "      <td>264246220</td>\n",
       "      <td>175000000</td>\n",
       "      <td>89246220</td>\n",
       "      <td>-49.002160</td>\n",
       "      <td>profit</td>\n",
       "      <td>Universal</td>\n",
       "      <td>PG-13</td>\n",
       "      <td>Action</td>\n",
       "    </tr>\n",
       "    <tr>\n",
       "      <th>2</th>\n",
       "      <td>3</td>\n",
       "      <td>2017-05-12</td>\n",
       "      <td>King Arthur: Legend of the Sword</td>\n",
       "      <td>39175066</td>\n",
       "      <td>139950708</td>\n",
       "      <td>175000000</td>\n",
       "      <td>-35049292</td>\n",
       "      <td>-120.028167</td>\n",
       "      <td>loss</td>\n",
       "      <td>Warner Bros.</td>\n",
       "      <td>PG-13</td>\n",
       "      <td>Adventure</td>\n",
       "    </tr>\n",
       "    <tr>\n",
       "      <th>3</th>\n",
       "      <td>4</td>\n",
       "      <td>2013-12-25</td>\n",
       "      <td>47 Ronin</td>\n",
       "      <td>38362475</td>\n",
       "      <td>151716815</td>\n",
       "      <td>175000000</td>\n",
       "      <td>-23283185</td>\n",
       "      <td>-113.304677</td>\n",
       "      <td>loss</td>\n",
       "      <td>Universal</td>\n",
       "      <td>PG-13</td>\n",
       "      <td>Action</td>\n",
       "    </tr>\n",
       "    <tr>\n",
       "      <th>4</th>\n",
       "      <td>5</td>\n",
       "      <td>2018-06-22</td>\n",
       "      <td>Jurassic World: Fallen Kingdom</td>\n",
       "      <td>416769345</td>\n",
       "      <td>1304866322</td>\n",
       "      <td>170000000</td>\n",
       "      <td>1134866322</td>\n",
       "      <td>567.568425</td>\n",
       "      <td>profit</td>\n",
       "      <td>Universal</td>\n",
       "      <td>PG-13</td>\n",
       "      <td>Action</td>\n",
       "    </tr>\n",
       "  </tbody>\n",
       "</table>\n",
       "</div>"
      ],
      "text/plain": [
       "   Unnamed: 0 release_date                             movie  domestic_gross  \\\n",
       "0           1   2007-06-22                     Evan Almighty       100289690   \n",
       "1           2   1995-07-28                        Waterworld        88246220   \n",
       "2           3   2017-05-12  King Arthur: Legend of the Sword        39175066   \n",
       "3           4   2013-12-25                          47 Ronin        38362475   \n",
       "4           5   2018-06-22    Jurassic World: Fallen Kingdom       416769345   \n",
       "\n",
       "   worldwide_gross  production_budget      profit  percentage_profit  \\\n",
       "0        174131329          175000000     -868671        -100.496383   \n",
       "1        264246220          175000000    89246220         -49.002160   \n",
       "2        139950708          175000000   -35049292        -120.028167   \n",
       "3        151716815          175000000   -23283185        -113.304677   \n",
       "4       1304866322          170000000  1134866322         567.568425   \n",
       "\n",
       "  Profit/Loss   distributor mpaa_rating      genre  \n",
       "0        loss     Universal          PG     Comedy  \n",
       "1      profit     Universal       PG-13     Action  \n",
       "2        loss  Warner Bros.       PG-13  Adventure  \n",
       "3        loss     Universal       PG-13     Action  \n",
       "4      profit     Universal       PG-13     Action  "
      ]
     },
     "execution_count": 45,
     "metadata": {},
     "output_type": "execute_result"
    }
   ],
   "source": [
    "df.head()"
   ]
  },
  {
   "cell_type": "code",
   "execution_count": 46,
   "id": "947ae323-3f63-4ea6-8ccf-e081fffff063",
   "metadata": {},
   "outputs": [
    {
     "data": {
      "text/html": [
       "<div>\n",
       "<style scoped>\n",
       "    .dataframe tbody tr th:only-of-type {\n",
       "        vertical-align: middle;\n",
       "    }\n",
       "\n",
       "    .dataframe tbody tr th {\n",
       "        vertical-align: top;\n",
       "    }\n",
       "\n",
       "    .dataframe thead th {\n",
       "        text-align: right;\n",
       "    }\n",
       "</style>\n",
       "<table border=\"1\" class=\"dataframe\">\n",
       "  <thead>\n",
       "    <tr style=\"text-align: right;\">\n",
       "      <th></th>\n",
       "      <th>release_date</th>\n",
       "      <th>production_budget</th>\n",
       "    </tr>\n",
       "  </thead>\n",
       "  <tbody>\n",
       "    <tr>\n",
       "      <th>0</th>\n",
       "      <td>2007-06-22</td>\n",
       "      <td>175000000</td>\n",
       "    </tr>\n",
       "    <tr>\n",
       "      <th>1</th>\n",
       "      <td>1995-07-28</td>\n",
       "      <td>175000000</td>\n",
       "    </tr>\n",
       "    <tr>\n",
       "      <th>2</th>\n",
       "      <td>2017-05-12</td>\n",
       "      <td>175000000</td>\n",
       "    </tr>\n",
       "    <tr>\n",
       "      <th>3</th>\n",
       "      <td>2013-12-25</td>\n",
       "      <td>175000000</td>\n",
       "    </tr>\n",
       "    <tr>\n",
       "      <th>4</th>\n",
       "      <td>2018-06-22</td>\n",
       "      <td>170000000</td>\n",
       "    </tr>\n",
       "  </tbody>\n",
       "</table>\n",
       "</div>"
      ],
      "text/plain": [
       "  release_date  production_budget\n",
       "0   2007-06-22          175000000\n",
       "1   1995-07-28          175000000\n",
       "2   2017-05-12          175000000\n",
       "3   2013-12-25          175000000\n",
       "4   2018-06-22          170000000"
      ]
     },
     "execution_count": 46,
     "metadata": {},
     "output_type": "execute_result"
    }
   ],
   "source": [
    "# profit_over_time=df.groupby(by='release_date')['profit'].sum().reset_index()\n",
    "# profit_over_time\n",
    "#create a new df with year and production budget\n",
    "profit_over_time=df[['release_date', 'production_budget']]\n",
    "profit_over_time.head()\n",
    "\n"
   ]
  },
  {
   "cell_type": "code",
   "execution_count": 47,
   "id": "f1e0024b-1744-4f02-891a-5f12cdbd9e67",
   "metadata": {},
   "outputs": [
    {
     "name": "stderr",
     "output_type": "stream",
     "text": [
      "/var/folders/bk/cftv1h856q5ccl8162j0_7kc0000gn/T/ipykernel_40144/1372661136.py:1: SettingWithCopyWarning: \n",
      "A value is trying to be set on a copy of a slice from a DataFrame.\n",
      "Try using .loc[row_indexer,col_indexer] = value instead\n",
      "\n",
      "See the caveats in the documentation: https://pandas.pydata.org/pandas-docs/stable/user_guide/indexing.html#returning-a-view-versus-a-copy\n",
      "  profit_over_time['year'] = profit_over_time['release_date'].dt.year\n",
      "/var/folders/bk/cftv1h856q5ccl8162j0_7kc0000gn/T/ipykernel_40144/1372661136.py:2: SettingWithCopyWarning: \n",
      "A value is trying to be set on a copy of a slice from a DataFrame.\n",
      "Try using .loc[row_indexer,col_indexer] = value instead\n",
      "\n",
      "See the caveats in the documentation: https://pandas.pydata.org/pandas-docs/stable/user_guide/indexing.html#returning-a-view-versus-a-copy\n",
      "  profit_over_time['month'] = profit_over_time['release_date'].dt.month\n",
      "/var/folders/bk/cftv1h856q5ccl8162j0_7kc0000gn/T/ipykernel_40144/1372661136.py:3: SettingWithCopyWarning: \n",
      "A value is trying to be set on a copy of a slice from a DataFrame.\n",
      "Try using .loc[row_indexer,col_indexer] = value instead\n",
      "\n",
      "See the caveats in the documentation: https://pandas.pydata.org/pandas-docs/stable/user_guide/indexing.html#returning-a-view-versus-a-copy\n",
      "  profit_over_time['day'] = profit_over_time['release_date'].dt.day\n"
     ]
    }
   ],
   "source": [
    "profit_over_time['year'] = profit_over_time['release_date'].dt.year\n",
    "profit_over_time['month'] = profit_over_time['release_date'].dt.month\n",
    "profit_over_time['day'] = profit_over_time['release_date'].dt.day\n",
    "\n"
   ]
  },
  {
   "cell_type": "code",
   "execution_count": 48,
   "id": "47c6d6ae-7645-47e1-8ec4-4d5a23beed34",
   "metadata": {},
   "outputs": [
    {
     "data": {
      "text/html": [
       "<div>\n",
       "<style scoped>\n",
       "    .dataframe tbody tr th:only-of-type {\n",
       "        vertical-align: middle;\n",
       "    }\n",
       "\n",
       "    .dataframe tbody tr th {\n",
       "        vertical-align: top;\n",
       "    }\n",
       "\n",
       "    .dataframe thead th {\n",
       "        text-align: right;\n",
       "    }\n",
       "</style>\n",
       "<table border=\"1\" class=\"dataframe\">\n",
       "  <thead>\n",
       "    <tr style=\"text-align: right;\">\n",
       "      <th></th>\n",
       "      <th>year</th>\n",
       "      <th>production_budget</th>\n",
       "    </tr>\n",
       "  </thead>\n",
       "  <tbody>\n",
       "    <tr>\n",
       "      <th>0</th>\n",
       "      <td>1936</td>\n",
       "      <td>1500000</td>\n",
       "    </tr>\n",
       "    <tr>\n",
       "      <th>1</th>\n",
       "      <td>1939</td>\n",
       "      <td>3900000</td>\n",
       "    </tr>\n",
       "    <tr>\n",
       "      <th>2</th>\n",
       "      <td>1940</td>\n",
       "      <td>2289247</td>\n",
       "    </tr>\n",
       "    <tr>\n",
       "      <th>3</th>\n",
       "      <td>1942</td>\n",
       "      <td>858000</td>\n",
       "    </tr>\n",
       "    <tr>\n",
       "      <th>4</th>\n",
       "      <td>1943</td>\n",
       "      <td>1039000</td>\n",
       "    </tr>\n",
       "  </tbody>\n",
       "</table>\n",
       "</div>"
      ],
      "text/plain": [
       "   year  production_budget\n",
       "0  1936            1500000\n",
       "1  1939            3900000\n",
       "2  1940            2289247\n",
       "3  1942             858000\n",
       "4  1943            1039000"
      ]
     },
     "execution_count": 52,
     "metadata": {},
     "output_type": "execute_result"
    }
   ],
   "source": [
    "profit_over_time_by_year=profit_over_time.groupby(by='year')['production_budget'].sum().reset_index()\n",
    "profit_over_time_by_year.head()"
   ]
  },
  {
   "cell_type": "code",
   "execution_count": null,
   "id": "c7859ace-bcdc-4fd1-9698-6de8828ad0e2",
   "metadata": {},
   "outputs": [
    {
     "data": {
      "image/png": "[encoded data removed]",
      "text/plain": [
       "<Figure size 1080x720 with 1 Axes>"
      ]
     },
     "metadata": {
      "needs_background": "light"
     },
     "output_type": "display_data"
    }
   ],
   "source": [
    "# a=profit_over_time_by_year['year']\n",
    "# b=profit_over_time_by_year['production_budget']\n",
    "# profit_over_time_by_year.plot(a,b)\n",
    "# profit_over_time_by_year.show()\n",
    "#profit_over_time_by_year.plot()\n",
    "\n",
    "x=profit_over_time_by_year['year']\n",
    "y=profit_over_time_by_year['production_budget']\n",
    "\n",
    "#print(x,y)\n",
    "plt.figure(figsize=(15, 10))\n",
    "#plt.bar(x, y)\n",
    "plt.plot(x, y, color='blue')\n",
    "plt.gca().xaxis.set_tick_params(rotation=45)\n",
    "plt.xlabel('Years')\n",
    "plt.ylabel('Production Budget')\n",
    "plt.title(\"Production Budget Over Time\")\n",
    "plt.show()\n"
   ]
  }
 ],
 "metadata": {
  "kernelspec": {
   "display_name": "Python 3 (ipykernel)",
   "language": "python",
   "name": "python3"
  },
  "language_info": {
   "codemirror_mode": {
    "name": "ipython",
    "version": 3
   },
   "file_extension": ".py",
   "mimetype": "text/x-python",
   "name": "python",
   "nbconvert_exporter": "python",
   "pygments_lexer": "ipython3",
   "version": "3.9.5"
  }
 },
 "nbformat": 4,
 "nbformat_minor": 5
}
